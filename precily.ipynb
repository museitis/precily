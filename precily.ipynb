{
 "cells": [
  {
   "cell_type": "code",
   "execution_count": 30,
   "metadata": {},
   "outputs": [],
   "source": [
    "import numpy as np \n",
    "import pandas as pd \n",
    "import re\n",
    "import string\n",
    "from nltk.tokenize import word_tokenize\n",
    "from nltk.corpus import stopwords\n",
    "from nltk.stem import PorterStemmer\n",
    "from transformers import BertTokenizer, BertModel\n",
    "from flask import Flask, request, jsonify\n",
    "import torch\n",
    "from sklearn.metrics.pairwise import cosine_similarity\n",
    "from sklearn.model_selection import train_test_split\n",
    "import seaborn as sns \n",
    "import matplotlib.pyplot as plt\n"
   ]
  },
  {
   "cell_type": "markdown",
   "metadata": {},
   "source": [
    "Data visualization "
   ]
  },
  {
   "cell_type": "code",
   "execution_count": 21,
   "metadata": {},
   "outputs": [
    {
     "data": {
      "text/html": [
       "<div>\n",
       "<style scoped>\n",
       "    .dataframe tbody tr th:only-of-type {\n",
       "        vertical-align: middle;\n",
       "    }\n",
       "\n",
       "    .dataframe tbody tr th {\n",
       "        vertical-align: top;\n",
       "    }\n",
       "\n",
       "    .dataframe thead th {\n",
       "        text-align: right;\n",
       "    }\n",
       "</style>\n",
       "<table border=\"1\" class=\"dataframe\">\n",
       "  <thead>\n",
       "    <tr style=\"text-align: right;\">\n",
       "      <th></th>\n",
       "      <th>text1</th>\n",
       "      <th>text2</th>\n",
       "    </tr>\n",
       "  </thead>\n",
       "  <tbody>\n",
       "    <tr>\n",
       "      <th>0</th>\n",
       "      <td>broadband challenges tv viewing the number of ...</td>\n",
       "      <td>gardener wins double in glasgow britain s jaso...</td>\n",
       "    </tr>\n",
       "    <tr>\n",
       "      <th>1</th>\n",
       "      <td>rap boss arrested over drug find rap mogul mar...</td>\n",
       "      <td>amnesty chief laments war failure the lack of ...</td>\n",
       "    </tr>\n",
       "    <tr>\n",
       "      <th>2</th>\n",
       "      <td>player burn-out worries robinson england coach...</td>\n",
       "      <td>hanks greeted at wintry premiere hollywood sta...</td>\n",
       "    </tr>\n",
       "    <tr>\n",
       "      <th>3</th>\n",
       "      <td>hearts of oak 3-2 cotonsport hearts of oak set...</td>\n",
       "      <td>redford s vision of sundance despite sporting ...</td>\n",
       "    </tr>\n",
       "    <tr>\n",
       "      <th>4</th>\n",
       "      <td>sir paul rocks super bowl crowds sir paul mcca...</td>\n",
       "      <td>mauresmo opens with victory in la amelie maure...</td>\n",
       "    </tr>\n",
       "    <tr>\n",
       "      <th>...</th>\n",
       "      <td>...</td>\n",
       "      <td>...</td>\n",
       "    </tr>\n",
       "    <tr>\n",
       "      <th>2995</th>\n",
       "      <td>uk directors guild nominees named martin scors...</td>\n",
       "      <td>steel firm  to cut  45 000 jobs mittal steel  ...</td>\n",
       "    </tr>\n",
       "    <tr>\n",
       "      <th>2996</th>\n",
       "      <td>u2 to play at grammy awards show irish rock ba...</td>\n",
       "      <td>israel looks to us for bank chief israel has a...</td>\n",
       "    </tr>\n",
       "    <tr>\n",
       "      <th>2997</th>\n",
       "      <td>pountney handed ban and fine northampton coach...</td>\n",
       "      <td>india and iran in gas export deal india has si...</td>\n",
       "    </tr>\n",
       "    <tr>\n",
       "      <th>2998</th>\n",
       "      <td>belle named  best scottish band  belle &amp; sebas...</td>\n",
       "      <td>mido makes third apology ahmed  mido  hossam h...</td>\n",
       "    </tr>\n",
       "    <tr>\n",
       "      <th>2999</th>\n",
       "      <td>criminal probe on citigroup deals traders at u...</td>\n",
       "      <td>former ni minister scott dies former northern ...</td>\n",
       "    </tr>\n",
       "  </tbody>\n",
       "</table>\n",
       "<p>3000 rows × 2 columns</p>\n",
       "</div>"
      ],
      "text/plain": [
       "                                                  text1  \\\n",
       "0     broadband challenges tv viewing the number of ...   \n",
       "1     rap boss arrested over drug find rap mogul mar...   \n",
       "2     player burn-out worries robinson england coach...   \n",
       "3     hearts of oak 3-2 cotonsport hearts of oak set...   \n",
       "4     sir paul rocks super bowl crowds sir paul mcca...   \n",
       "...                                                 ...   \n",
       "2995  uk directors guild nominees named martin scors...   \n",
       "2996  u2 to play at grammy awards show irish rock ba...   \n",
       "2997  pountney handed ban and fine northampton coach...   \n",
       "2998  belle named  best scottish band  belle & sebas...   \n",
       "2999  criminal probe on citigroup deals traders at u...   \n",
       "\n",
       "                                                  text2  \n",
       "0     gardener wins double in glasgow britain s jaso...  \n",
       "1     amnesty chief laments war failure the lack of ...  \n",
       "2     hanks greeted at wintry premiere hollywood sta...  \n",
       "3     redford s vision of sundance despite sporting ...  \n",
       "4     mauresmo opens with victory in la amelie maure...  \n",
       "...                                                 ...  \n",
       "2995  steel firm  to cut  45 000 jobs mittal steel  ...  \n",
       "2996  israel looks to us for bank chief israel has a...  \n",
       "2997  india and iran in gas export deal india has si...  \n",
       "2998  mido makes third apology ahmed  mido  hossam h...  \n",
       "2999  former ni minister scott dies former northern ...  \n",
       "\n",
       "[3000 rows x 2 columns]"
      ]
     },
     "execution_count": 21,
     "metadata": {},
     "output_type": "execute_result"
    }
   ],
   "source": [
    "pd.read_csv('/Users/maithilibhuyar/Desktop/Precily_Task/Precily_Text_Similarity.csv')"
   ]
  },
  {
   "cell_type": "code",
   "execution_count": 15,
   "metadata": {},
   "outputs": [
    {
     "name": "stderr",
     "output_type": "stream",
     "text": [
      "[nltk_data] Downloading package punkt to\n",
      "[nltk_data]     /Users/maithilibhuyar/nltk_data...\n",
      "[nltk_data]   Unzipping tokenizers/punkt.zip.\n",
      "[nltk_data] Downloading package stopwords to\n",
      "[nltk_data]     /Users/maithilibhuyar/nltk_data...\n",
      "[nltk_data]   Unzipping corpora/stopwords.zip.\n"
     ]
    },
    {
     "data": {
      "text/plain": [
       "True"
      ]
     },
     "execution_count": 15,
     "metadata": {},
     "output_type": "execute_result"
    }
   ],
   "source": [
    "import nltk\n",
    "\n",
    "# Download all required NLTK data\n",
    "nltk.download('punkt')\n",
    "nltk.download('stopwords')\n"
   ]
  },
  {
   "cell_type": "markdown",
   "metadata": {},
   "source": [
    "Data preprocessing \n"
   ]
  },
  {
   "cell_type": "code",
   "execution_count": 18,
   "metadata": {},
   "outputs": [
    {
     "name": "stdout",
     "output_type": "stream",
     "text": [
      "                                               text1  \\\n",
      "0  broadband challeng tv view number european bro...   \n",
      "1  rap boss arrest drug find rap mogul marion sug...   \n",
      "2  player burnout worri robinson england coach an...   \n",
      "3  heart oak 32 cotonsport heart oak set ghanaian...   \n",
      "4  sir paul rock super bowl crowd sir paul mccart...   \n",
      "\n",
      "                                               text2  \n",
      "0  garden win doubl glasgow britain jason garden ...  \n",
      "1  amnesti chief lament war failur lack public ou...  \n",
      "2  hank greet wintri premier hollywood star tom h...  \n",
      "3  redford vision sundanc despit sport corduroy c...  \n",
      "4  mauresmo open victori la ameli mauresmo maria ...  \n"
     ]
    }
   ],
   "source": [
    "\n",
    "# Load the dataset from the CSV file\n",
    "dataset_path = '/Users/maithilibhuyar/Desktop/Precily_Task/Precily_Text_Similarity.csv'\n",
    "df = pd.read_csv(dataset_path)\n",
    "\n",
    "# Data Preprocessing\n",
    "def preprocess_text(text):\n",
    "    # Lowercase the text\n",
    "    text = text.lower()\n",
    "    \n",
    "    # Remove special characters and digits\n",
    "    text = re.sub(r'[^\\w\\s]', '', text)\n",
    "    \n",
    "    # Tokenize the text\n",
    "    tokens = word_tokenize(text)\n",
    "    \n",
    "    # Remove punctuation tokens\n",
    "    tokens = [token for token in tokens if token not in string.punctuation]\n",
    "    \n",
    "    # Remove stopwords\n",
    "    stop_words = set(stopwords.words('english'))\n",
    "    tokens = [token for token in tokens if token not in stop_words]\n",
    "    \n",
    "    # Stemming (optional)\n",
    "    stemmer = PorterStemmer()\n",
    "    tokens = [stemmer.stem(token) for token in tokens]\n",
    "    \n",
    "    # Join tokens back to form the processed text\n",
    "    processed_text = ' '.join(tokens)\n",
    "    \n",
    "    return processed_text\n",
    "\n",
    "# Apply preprocessing to both 'text1' and 'text2' columns\n",
    "df['text1'] = df['text1'].apply(preprocess_text)\n",
    "df['text2'] = df['text2'].apply(preprocess_text)\n",
    "\n",
    "# Display the preprocessed DataFrame\n",
    "print(df.head())\n",
    "\n"
   ]
  },
  {
   "cell_type": "markdown",
   "metadata": {},
   "source": [
    "Embeddings "
   ]
  },
  {
   "cell_type": "code",
   "execution_count": 22,
   "metadata": {},
   "outputs": [
    {
     "name": "stderr",
     "output_type": "stream",
     "text": [
      "Downloading (…)solve/main/vocab.txt: 100%|██████████| 232k/232k [00:00<00:00, 6.70MB/s]\n",
      "Downloading (…)okenizer_config.json: 100%|██████████| 28.0/28.0 [00:00<00:00, 64.2kB/s]\n",
      "Downloading (…)lve/main/config.json: 100%|██████████| 570/570 [00:00<00:00, 2.49MB/s]\n",
      "Downloading model.safetensors: 100%|██████████| 440M/440M [02:01<00:00, 3.62MB/s] \n"
     ]
    },
    {
     "name": "stdout",
     "output_type": "stream",
     "text": [
      "                                               text1  \\\n",
      "0  broadband challeng tv view number european bro...   \n",
      "1  rap boss arrest drug find rap mogul marion sug...   \n",
      "2  player burnout worri robinson england coach an...   \n",
      "3  heart oak 32 cotonsport heart oak set ghanaian...   \n",
      "4  sir paul rock super bowl crowd sir paul mccart...   \n",
      "\n",
      "                                               text2  \\\n",
      "0  garden win doubl glasgow britain jason garden ...   \n",
      "1  amnesti chief lament war failur lack public ou...   \n",
      "2  hank greet wintri premier hollywood star tom h...   \n",
      "3  redford vision sundanc despit sport corduroy c...   \n",
      "4  mauresmo open victori la ameli mauresmo maria ...   \n",
      "\n",
      "                                    text1_embeddings  \\\n",
      "0  [[-0.25395882, 0.016762383, 0.43942404, -0.007...   \n",
      "1  [[-0.45068353, 0.01692449, 0.10169643, -0.0568...   \n",
      "2  [[-0.47159213, -0.10603104, 0.26686823, -0.082...   \n",
      "3  [[-0.43389314, -0.055328753, 0.046310127, -0.0...   \n",
      "4  [[-0.36103565, -0.31523117, 0.31159514, 0.2160...   \n",
      "\n",
      "                                    text2_embeddings  \n",
      "0  [[-0.42863238, 0.03918132, 0.49617925, -0.0911...  \n",
      "1  [[-0.47076508, -0.15401879, 0.3439658, -0.0596...  \n",
      "2  [[-0.4422531, 0.1999191, 0.1525315, -0.1362903...  \n",
      "3  [[-0.16931383, 0.11772821, 0.1553959, -0.02991...  \n",
      "4  [[-0.4850143, -0.22487286, 0.41967773, 0.00241...  \n"
     ]
    }
   ],
   "source": [
    "# Load the pre-trained BERT model and tokenizer\n",
    "model_name = 'bert-base-uncased'\n",
    "tokenizer = BertTokenizer.from_pretrained(model_name)\n",
    "model = BertModel.from_pretrained(model_name)\n",
    "\n",
    "# Function to encode text paragraphs into embeddings\n",
    "def encode_text(text):\n",
    "    # Tokenize the text and convert to tensors\n",
    "    inputs = tokenizer(text, return_tensors='pt', padding=True, truncation=True)\n",
    "    \n",
    "    # Pass the inputs through the model to get embeddings\n",
    "    with torch.no_grad():\n",
    "        outputs = model(**inputs)\n",
    "    \n",
    "    # Extract the embeddings from the model outputs\n",
    "    embeddings = outputs.last_hidden_state[:, 0, :].numpy()\n",
    "    \n",
    "    return embeddings\n",
    "\n",
    "# Encode 'text1' and 'text2' columns into embeddings\n",
    "df['text1_embeddings'] = df['text1'].apply(encode_text)\n",
    "df['text2_embeddings'] = df['text2'].apply(encode_text)\n",
    "\n",
    "# Display the DataFrame with embeddings\n",
    "print(df.head())"
   ]
  },
  {
   "cell_type": "markdown",
   "metadata": {},
   "source": [
    "Semantic similarity "
   ]
  },
  {
   "cell_type": "code",
   "execution_count": 26,
   "metadata": {},
   "outputs": [
    {
     "name": "stdout",
     "output_type": "stream",
     "text": [
      "                                               text1  \\\n",
      "0  broadband challeng tv view number european bro...   \n",
      "1  rap boss arrest drug find rap mogul marion sug...   \n",
      "2  player burnout worri robinson england coach an...   \n",
      "3  heart oak 32 cotonsport heart oak set ghanaian...   \n",
      "4  sir paul rock super bowl crowd sir paul mccart...   \n",
      "\n",
      "                                               text2  \\\n",
      "0  garden win doubl glasgow britain jason garden ...   \n",
      "1  amnesti chief lament war failur lack public ou...   \n",
      "2  hank greet wintri premier hollywood star tom h...   \n",
      "3  redford vision sundanc despit sport corduroy c...   \n",
      "4  mauresmo open victori la ameli mauresmo maria ...   \n",
      "\n",
      "                                    text1_embeddings  \\\n",
      "0  [[-0.25395882, 0.016762383, 0.43942404, -0.007...   \n",
      "1  [[-0.45068353, 0.01692449, 0.10169643, -0.0568...   \n",
      "2  [[-0.47159213, -0.10603104, 0.26686823, -0.082...   \n",
      "3  [[-0.43389314, -0.055328753, 0.046310127, -0.0...   \n",
      "4  [[-0.36103565, -0.31523117, 0.31159514, 0.2160...   \n",
      "\n",
      "                                    text2_embeddings  similarity_score  \n",
      "0  [[-0.42863238, 0.03918132, 0.49617925, -0.0911...          0.913228  \n",
      "1  [[-0.47076508, -0.15401879, 0.3439658, -0.0596...          0.866887  \n",
      "2  [[-0.4422531, 0.1999191, 0.1525315, -0.1362903...          0.897305  \n",
      "3  [[-0.16931383, 0.11772821, 0.1553959, -0.02991...          0.887161  \n",
      "4  [[-0.4850143, -0.22487286, 0.41967773, 0.00241...          0.921445  \n"
     ]
    }
   ],
   "source": [
    "# Function to calculate cosine similarity\n",
    "def calculate_cosine_similarity(embeddings1, embeddings2):\n",
    "    # Calculate cosine similarity between the embeddings\n",
    "    similarity_score = cosine_similarity(embeddings1.reshape(1, -1), embeddings2.reshape(1, -1))[0][0]\n",
    "    return similarity_score\n",
    "\n",
    "# Apply cosine similarity to the DataFrame and create a new column 'similarity_score'\n",
    "df['similarity_score'] = df.apply(lambda row: calculate_cosine_similarity(row['text1_embeddings'], row['text2_embeddings']), axis=1)\n",
    "\n",
    "# Display the DataFrame with the similarity scores\n",
    "print(df.head())"
   ]
  },
  {
   "cell_type": "markdown",
   "metadata": {},
   "source": [
    "**Testing accuracy**"
   ]
  },
  {
   "cell_type": "code",
   "execution_count": 27,
   "metadata": {},
   "outputs": [
    {
     "name": "stdout",
     "output_type": "stream",
     "text": [
      "Training set shape:\n",
      "Text1 embeddings: (2400, 768)\n",
      "Text2 embeddings: (2400, 768)\n",
      "Similarity scores: (2400,)\n",
      "\n",
      "Validation set shape:\n",
      "Text1 embeddings: (600, 768)\n",
      "Text2 embeddings: (600, 768)\n",
      "Similarity scores: (600,)\n"
     ]
    }
   ],
   "source": [
    "\n",
    "# Split the data into training and validation sets\n",
    "train_df, val_df = train_test_split(df, test_size=0.2, random_state=42)\n",
    "\n",
    "# Separate features and target for training set\n",
    "train_text1_embeddings = np.vstack(train_df['text1_embeddings'].values)\n",
    "train_text2_embeddings = np.vstack(train_df['text2_embeddings'].values)\n",
    "train_similarity_scores = train_df['similarity_score'].values\n",
    "\n",
    "# Separate features and target for validation set\n",
    "val_text1_embeddings = np.vstack(val_df['text1_embeddings'].values)\n",
    "val_text2_embeddings = np.vstack(val_df['text2_embeddings'].values)\n",
    "val_similarity_scores = val_df['similarity_score'].values\n",
    "\n",
    "# Display the shapes of training and validation sets\n",
    "print(\"Training set shape:\")\n",
    "print(\"Text1 embeddings:\", train_text1_embeddings.shape)\n",
    "print(\"Text2 embeddings:\", train_text2_embeddings.shape)\n",
    "print(\"Similarity scores:\", train_similarity_scores.shape)\n",
    "\n",
    "print(\"\\nValidation set shape:\")\n",
    "print(\"Text1 embeddings:\", val_text1_embeddings.shape)\n",
    "print(\"Text2 embeddings:\", val_text2_embeddings.shape)\n",
    "print(\"Similarity scores:\", val_similarity_scores.shape)\n"
   ]
  },
  {
   "cell_type": "markdown",
   "metadata": {},
   "source": [
    "Graphs\n"
   ]
  },
  {
   "cell_type": "code",
   "execution_count": 29,
   "metadata": {},
   "outputs": [
    {
     "name": "stderr",
     "output_type": "stream",
     "text": [
      "/var/folders/0r/klw0gtf17vbds0klb5xl3wnw0000gn/T/ipykernel_9472/1288658970.py:4: FutureWarning: \n",
      "\n",
      "`shade` is now deprecated in favor of `fill`; setting `fill=True`.\n",
      "This will become an error in seaborn v0.14.0; please update your code.\n",
      "\n",
      "  sns.kdeplot(df['similarity_score'], shade=True, color='blue')\n"
     ]
    },
    {
     "data": {
      "image/png": "[encoded data removed]",
      "text/plain": [
       "<Figure size 800x600 with 1 Axes>"
      ]
     },
     "metadata": {},
     "output_type": "display_data"
    }
   ],
   "source": [
    "# Plot the distribution of cosine similarity scores using a kernel density plot\n",
    "sns.set(style='whitegrid')\n",
    "plt.figure(figsize=(8, 6))\n",
    "sns.kdeplot(df['similarity_score'], shade=True, color='blue')\n",
    "plt.xlabel('Cosine Similarity Score')\n",
    "plt.ylabel('Density')\n",
    "plt.title('Distribution of Cosine Similarity Scores')\n",
    "plt.show()"
   ]
  },
  {
   "cell_type": "markdown",
   "metadata": {},
   "source": [
    "Testing API"
   ]
  },
  {
   "cell_type": "code",
   "execution_count": null,
   "metadata": {},
   "outputs": [],
   "source": [
    "import requests\n",
    "\n",
    "# Replace 'http://example-api.com' with the actual URL of your deployed API endpoint\n",
    "api_endpoint = 'http://example-api.com'\n",
    "\n",
    "# Test data: text pairs to be compared\n",
    "text_pair_1 = {\n",
    "    'text1': 'The quick brown fox jumps over the lazy dog.',\n",
    "    'text2': 'A fast brown fox jumps over a lazy dog.'\n",
    "}\n",
    "\n",
    "text_pair_2 = {\n",
    "    'text1': 'This is a test sentence.',\n",
    "    'text2': 'This is a sample sentence.'\n",
    "}\n",
    "\n",
    "# Send POST request to the API endpoint and get the similarity scores as responses\n",
    "response_1 = requests.post(api_endpoint, json=text_pair_1)\n",
    "response_2 = requests.post(api_endpoint, json=text_pair_2)\n",
    "\n",
    "# Extract similarity scores from the responses\n",
    "similarity_score_1 = response_1.json()['similarity_score']\n",
    "similarity_score_2 = response_2.json()['similarity_score']\n",
    "\n",
    "# Display the similarity scores\n",
    "print('Similarity Score 1:', similarity_score_1)\n",
    "print('Similarity Score 2:', similarity_score_2)\n"
   ]
  }
 ],
 "metadata": {
  "kernelspec": {
   "display_name": "Python 3",
   "language": "python",
   "name": "python3"
  },
  "language_info": {
   "codemirror_mode": {
    "name": "ipython",
    "version": 3
   },
   "file_extension": ".py",
   "mimetype": "text/x-python",
   "name": "python",
   "nbconvert_exporter": "python",
   "pygments_lexer": "ipython3",
   "version": "3.11.4"
  },
  "orig_nbformat": 4
 },
 "nbformat": 4,
 "nbformat_minor": 2
}
